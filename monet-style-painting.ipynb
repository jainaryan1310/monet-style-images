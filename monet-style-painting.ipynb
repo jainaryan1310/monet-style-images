{
 "cells": [
  {
   "cell_type": "code",
   "execution_count": 1,
   "metadata": {},
   "outputs": [
    {
     "name": "stdout",
     "output_type": "stream",
     "text": [
      "Random Seed:  1000\n"
     ]
    },
    {
     "data": {
      "text/plain": [
       "<torch._C.Generator at 0x7fb2a801b6b0>"
      ]
     },
     "execution_count": 1,
     "metadata": {},
     "output_type": "execute_result"
    }
   ],
   "source": [
    "import os\n",
    "import random\n",
    "import torch\n",
    "import torch.nn as nn\n",
    "import torch.nn.parallel\n",
    "import torch.backends.cudnn as cudnn\n",
    "import torch.optim as optim\n",
    "import torch.utils.data\n",
    "import torchvision.datasets as datasets\n",
    "import torchvision.transforms as T\n",
    "import torchvision.utils as vutils\n",
    "from torch.utils.data import DataLoader\n",
    "import numpy as np\n",
    "import pandas as pd\n",
    "import matplotlib.pyplot as plt\n",
    "\n",
    "# setting the manual seed\n",
    "manualSeed = 1000\n",
    "\n",
    "print(\"Random Seed: \", manualSeed)\n",
    "random.seed(manualSeed)\n",
    "torch.manual_seed(manualSeed)"
   ]
  },
  {
   "cell_type": "code",
   "execution_count": 2,
   "metadata": {},
   "outputs": [],
   "source": [
    "device = torch.device(\"cuda:0\" if (torch.cuda.is_available()) else \"cpu\")"
   ]
  },
  {
   "cell_type": "code",
   "execution_count": 3,
   "metadata": {},
   "outputs": [
    {
     "data": {
      "text/plain": [
       "device(type='cuda', index=0)"
      ]
     },
     "execution_count": 3,
     "metadata": {},
     "output_type": "execute_result"
    }
   ],
   "source": [
    "device"
   ]
  },
  {
   "cell_type": "code",
   "execution_count": 4,
   "metadata": {},
   "outputs": [],
   "source": [
    "torch.cuda.empty_cache()"
   ]
  },
  {
   "cell_type": "code",
   "execution_count": 5,
   "metadata": {},
   "outputs": [],
   "source": [
    "DATAROOT = \"./gan-getting-started\"\n",
    "WORKERS = 2\n",
    "BATCH_SIZE = 32\n",
    "OUT_IMG_SIZE = 256\n",
    "IN_CHANNELS = 3\n",
    "OUT_CHANNELS = 3\n",
    "ENCODING_SIZE = 100\n",
    "GEN_FEATURE_SIZE = 64\n",
    "DISC_FEATURE_SIZE = 64\n",
    "NUM_EPOCHS = 500\n",
    "lr = 0.0002\n",
    "BETA1 = 0.5"
   ]
  },
  {
   "cell_type": "code",
   "execution_count": 6,
   "metadata": {},
   "outputs": [],
   "source": [
    "transform = T.Compose([T.Resize(OUT_IMG_SIZE), T.CenterCrop(OUT_IMG_SIZE), T.ToTensor(), T.Normalize((0.5, 0.5, 0.5), (0.5, 0.5, 0.5))])\n",
    "train_dataset = datasets.ImageFolder(root = \"./gan-getting-started/train\", transform=transform)"
   ]
  },
  {
   "cell_type": "code",
   "execution_count": 7,
   "metadata": {},
   "outputs": [],
   "source": [
    "# train_loader = DataLoader(train_dataset, batch_size=BATCH_SIZE, shuffle=True, num_workers=WORKERS)"
   ]
  },
  {
   "cell_type": "code",
   "execution_count": 8,
   "metadata": {},
   "outputs": [],
   "source": [
    "# # displaying 1 batch of images\n",
    "# real_batch = next(iter(train_loader))\n",
    "# plt.figure(figsize=(8,8))\n",
    "# plt.axis(\"off\")\n",
    "# plt.imshow(np.transpose(vutils.make_grid(real_batch[0].to(device)[:64], padding=2, normalize=True).cpu(), (1, 2, 0)))"
   ]
  },
  {
   "cell_type": "code",
   "execution_count": 9,
   "metadata": {},
   "outputs": [],
   "source": [
    "# custom weights initialization called on netG and netD\n",
    "def weights_init(m):\n",
    "    classname = m.__class__.__name__\n",
    "    if classname.find(\"Conv\") != -1:\n",
    "        nn.init.normal_(m.weight.data, 0.0, 0.02)\n",
    "    elif classname.find(\"BatchNorm\") != -1:\n",
    "        nn.init.normal_(m.weight.data, 1.0, 0.02)\n",
    "        nn.init.constant_(m.bias.data, 0)"
   ]
  },
  {
   "cell_type": "code",
   "execution_count": 10,
   "metadata": {},
   "outputs": [],
   "source": [
    "# defining the generator\n",
    "\n",
    "class Generator(nn.Module):\n",
    "    \n",
    "    def __init__(self):\n",
    "        super(Generator, self).__init__()\n",
    "        self.main = nn.Sequential(\n",
    "            # input is vector of size ENCODING_SIZE\n",
    "            nn.ConvTranspose2d(ENCODING_SIZE, GEN_FEATURE_SIZE * 8, 16, 1, 0, bias = False),\n",
    "            nn.BatchNorm2d(GEN_FEATURE_SIZE * 8),\n",
    "            nn.ReLU(True),\n",
    "            # (GEN_FEATURE_SIZE * 8) x 16 x 16\n",
    "            nn.ConvTranspose2d(GEN_FEATURE_SIZE * 8, GEN_FEATURE_SIZE * 4, 4, 2, 1, bias = False),\n",
    "            nn.BatchNorm2d(GEN_FEATURE_SIZE * 4),\n",
    "            nn.ReLU(True),\n",
    "            # (GEN_FEATURE_SIZE * 4) x 32 x 32\n",
    "            nn.ConvTranspose2d(GEN_FEATURE_SIZE * 4, GEN_FEATURE_SIZE * 2, 4, 2, 1, bias = False),\n",
    "            nn.BatchNorm2d(GEN_FEATURE_SIZE * 2),\n",
    "            nn.ReLU(True),\n",
    "            # (GEN_FEATURE_SIZE * 2) x 64 x 64\n",
    "            nn.ConvTranspose2d(GEN_FEATURE_SIZE * 2, GEN_FEATURE_SIZE, 4, 2, 1, bias = False),\n",
    "            nn.BatchNorm2d(GEN_FEATURE_SIZE),\n",
    "            nn.ReLU(True),\n",
    "            # (GEN_FEATURE_SIZE) x 128 x 128\n",
    "            nn.ConvTranspose2d(GEN_FEATURE_SIZE, IN_CHANNELS, 4, 2, 1, bias = False),\n",
    "            nn.Tanh()\n",
    "            # (IN_CHANNELS) x 256 x 256\n",
    "        )\n",
    "\n",
    "    def forward(self, input):\n",
    "        return self.main(input)\n"
   ]
  },
  {
   "cell_type": "code",
   "execution_count": 11,
   "metadata": {},
   "outputs": [
    {
     "name": "stdout",
     "output_type": "stream",
     "text": [
      "Generator(\n",
      "  (main): Sequential(\n",
      "    (0): ConvTranspose2d(100, 512, kernel_size=(16, 16), stride=(1, 1), bias=False)\n",
      "    (1): BatchNorm2d(512, eps=1e-05, momentum=0.1, affine=True, track_running_stats=True)\n",
      "    (2): ReLU(inplace=True)\n",
      "    (3): ConvTranspose2d(512, 256, kernel_size=(4, 4), stride=(2, 2), padding=(1, 1), bias=False)\n",
      "    (4): BatchNorm2d(256, eps=1e-05, momentum=0.1, affine=True, track_running_stats=True)\n",
      "    (5): ReLU(inplace=True)\n",
      "    (6): ConvTranspose2d(256, 128, kernel_size=(4, 4), stride=(2, 2), padding=(1, 1), bias=False)\n",
      "    (7): BatchNorm2d(128, eps=1e-05, momentum=0.1, affine=True, track_running_stats=True)\n",
      "    (8): ReLU(inplace=True)\n",
      "    (9): ConvTranspose2d(128, 64, kernel_size=(4, 4), stride=(2, 2), padding=(1, 1), bias=False)\n",
      "    (10): BatchNorm2d(64, eps=1e-05, momentum=0.1, affine=True, track_running_stats=True)\n",
      "    (11): ReLU(inplace=True)\n",
      "    (12): ConvTranspose2d(64, 3, kernel_size=(4, 4), stride=(2, 2), padding=(1, 1), bias=False)\n",
      "    (13): Tanh()\n",
      "  )\n",
      ")\n"
     ]
    }
   ],
   "source": [
    "generator = Generator().to(device)\n",
    "generator.apply(weights_init)\n",
    "print(generator)"
   ]
  },
  {
   "cell_type": "code",
   "execution_count": 12,
   "metadata": {},
   "outputs": [],
   "source": [
    "class Discriminator(nn.Module):\n",
    "    \n",
    "    def __init__(self):\n",
    "        super(Discriminator, self).__init__()\n",
    "        self.main = nn.Sequential(\n",
    "            # input is IN_CHANNELS x 256 x 256\n",
    "            nn.Conv2d(IN_CHANNELS, DISC_FEATURE_SIZE, 4, 2, 1, bias = False),\n",
    "            nn.LeakyReLU(0.2, inplace=True),\n",
    "            # (DISC_FEATURE_SIZE) x 128 x 128\n",
    "            nn.Conv2d(DISC_FEATURE_SIZE, DISC_FEATURE_SIZE * 2, 4, 2, 1, bias = False),\n",
    "            nn.BatchNorm2d(DISC_FEATURE_SIZE * 2),\n",
    "            nn.LeakyReLU(0.2, inplace=True),\n",
    "            # (DISC_FEATURE_SIZE * 2) x 64 x 64\n",
    "            nn.Conv2d(DISC_FEATURE_SIZE * 2, DISC_FEATURE_SIZE * 4, 4, 2, 1, bias = False),\n",
    "            nn.BatchNorm2d(DISC_FEATURE_SIZE * 4),\n",
    "            nn.LeakyReLU(0.2, inplace=True),\n",
    "            # (DISC_FEATURE_SIZE * 4) x 32 x 32\n",
    "            nn.Conv2d(DISC_FEATURE_SIZE * 4, DISC_FEATURE_SIZE * 8, 4, 2, 1, bias = False),\n",
    "            nn.BatchNorm2d(DISC_FEATURE_SIZE * 8),\n",
    "            nn.LeakyReLU(0.2, inplace=True),\n",
    "            # (DISC_FEATURE_SIZE * 8) x 16 x 16\n",
    "            # nn.Conv2d(DISC_FEATURE_SIZE * 8, DISC_FEATURE_SIZE * 16, 4, 2, 1, bias = False),\n",
    "            # nn.BatchNorm2d(DISC_FEATURE_SIZE * 16),\n",
    "            # nn.LeakyReLU(0.2, inplace=True),\n",
    "            # # (DISC_FEATURE_SIZE * 16) x 4 x 4\n",
    "            nn.Conv2d(DISC_FEATURE_SIZE * 8, 1, 16, 1, 0, bias = False),\n",
    "            nn.Sigmoid() \n",
    "        )\n",
    "\n",
    "    def forward(self, input):\n",
    "        return self.main(input)"
   ]
  },
  {
   "cell_type": "code",
   "execution_count": 13,
   "metadata": {},
   "outputs": [
    {
     "name": "stdout",
     "output_type": "stream",
     "text": [
      "Discriminator(\n",
      "  (main): Sequential(\n",
      "    (0): Conv2d(3, 64, kernel_size=(4, 4), stride=(2, 2), padding=(1, 1), bias=False)\n",
      "    (1): LeakyReLU(negative_slope=0.2, inplace=True)\n",
      "    (2): Conv2d(64, 128, kernel_size=(4, 4), stride=(2, 2), padding=(1, 1), bias=False)\n",
      "    (3): BatchNorm2d(128, eps=1e-05, momentum=0.1, affine=True, track_running_stats=True)\n",
      "    (4): LeakyReLU(negative_slope=0.2, inplace=True)\n",
      "    (5): Conv2d(128, 256, kernel_size=(4, 4), stride=(2, 2), padding=(1, 1), bias=False)\n",
      "    (6): BatchNorm2d(256, eps=1e-05, momentum=0.1, affine=True, track_running_stats=True)\n",
      "    (7): LeakyReLU(negative_slope=0.2, inplace=True)\n",
      "    (8): Conv2d(256, 512, kernel_size=(4, 4), stride=(2, 2), padding=(1, 1), bias=False)\n",
      "    (9): BatchNorm2d(512, eps=1e-05, momentum=0.1, affine=True, track_running_stats=True)\n",
      "    (10): LeakyReLU(negative_slope=0.2, inplace=True)\n",
      "    (11): Conv2d(512, 1, kernel_size=(16, 16), stride=(1, 1), bias=False)\n",
      "    (12): Sigmoid()\n",
      "  )\n",
      ")\n"
     ]
    }
   ],
   "source": [
    "discriminator = Discriminator().to(device)\n",
    "discriminator.apply(weights_init)\n",
    "print(discriminator)"
   ]
  },
  {
   "cell_type": "code",
   "execution_count": 14,
   "metadata": {},
   "outputs": [],
   "source": [
    "criterion = nn.BCELoss()\n",
    "\n",
    "fixed_noise = torch.randn(64, ENCODING_SIZE, 1, 1, device=device)\n",
    "real_label = 1.\n",
    "fake_label = 0.\n",
    "\n",
    "disc_optim = optim.Adam(discriminator.parameters(), lr = lr, betas = (BETA1, 0.999))\n",
    "gen_optim = optim.Adam(generator.parameters(), lr = lr, betas = (BETA1, 0.999))"
   ]
  },
  {
   "cell_type": "code",
   "execution_count": null,
   "metadata": {},
   "outputs": [
    {
     "name": "stdout",
     "output_type": "stream",
     "text": [
      "------------------------- Starting Training Loop -------------------\n",
      "epoch : 1\tbatch : 0\t[0/300]\tDisc_loss : 5.394057273864746\tGen_loss : 3.7312393188476562\n",
      "epoch : 1\tbatch : 5\t[160/300]\tDisc_loss : 3.4199113845825195\tGen_loss : 17.024160385131836\n",
      "epoch : 2\tbatch : 0\t[0/300]\tDisc_loss : 0.899065375328064\tGen_loss : 14.652582168579102\n",
      "epoch : 2\tbatch : 5\t[160/300]\tDisc_loss : 0.22071027755737305\tGen_loss : 18.756858825683594\n",
      "epoch : 3\tbatch : 0\t[0/300]\tDisc_loss : 1.553218126296997\tGen_loss : 22.503273010253906\n",
      "epoch : 3\tbatch : 5\t[160/300]\tDisc_loss : 1.139936923980713\tGen_loss : 15.252835273742676\n",
      "epoch : 4\tbatch : 0\t[0/300]\tDisc_loss : 1.3865387439727783\tGen_loss : 23.754615783691406\n",
      "epoch : 4\tbatch : 5\t[160/300]\tDisc_loss : 0.7966276407241821\tGen_loss : 46.43622589111328\n",
      "epoch : 5\tbatch : 0\t[0/300]\tDisc_loss : 0.00873754546046257\tGen_loss : 28.2205810546875\n",
      "epoch : 5\tbatch : 5\t[160/300]\tDisc_loss : 0.20899085700511932\tGen_loss : 29.271820068359375\n",
      "epoch : 6\tbatch : 0\t[0/300]\tDisc_loss : 0.03380860388278961\tGen_loss : 32.036224365234375\n",
      "epoch : 6\tbatch : 5\t[160/300]\tDisc_loss : 0.36641278862953186\tGen_loss : 46.67194747924805\n",
      "epoch : 7\tbatch : 0\t[0/300]\tDisc_loss : 0.0004598069644998759\tGen_loss : 33.51169967651367\n",
      "epoch : 7\tbatch : 5\t[160/300]\tDisc_loss : 0.12032162398099899\tGen_loss : 35.91091537475586\n",
      "epoch : 8\tbatch : 0\t[0/300]\tDisc_loss : 0.613845944404602\tGen_loss : 43.631080627441406\n",
      "epoch : 8\tbatch : 5\t[160/300]\tDisc_loss : 0.0395437516272068\tGen_loss : 50.13298034667969\n",
      "epoch : 9\tbatch : 0\t[0/300]\tDisc_loss : 2.369771718978882\tGen_loss : 51.27644729614258\n",
      "epoch : 9\tbatch : 5\t[160/300]\tDisc_loss : 0.08246174454689026\tGen_loss : 44.64108657836914\n",
      "epoch : 10\tbatch : 0\t[0/300]\tDisc_loss : 0.06396922469139099\tGen_loss : 76.10614013671875\n",
      "epoch : 10\tbatch : 5\t[160/300]\tDisc_loss : 2.8367347717285156\tGen_loss : 68.84571838378906\n",
      "epoch : 11\tbatch : 0\t[0/300]\tDisc_loss : 0.0\tGen_loss : 48.05665588378906\n",
      "epoch : 11\tbatch : 5\t[160/300]\tDisc_loss : 0.5150120258331299\tGen_loss : 52.118797302246094\n",
      "epoch : 12\tbatch : 0\t[0/300]\tDisc_loss : 1.8452303409576416\tGen_loss : 43.58489990234375\n",
      "epoch : 12\tbatch : 5\t[160/300]\tDisc_loss : 0.735740065574646\tGen_loss : 56.97618865966797\n",
      "epoch : 13\tbatch : 0\t[0/300]\tDisc_loss : 3.1292483981815167e-07\tGen_loss : 37.979774475097656\n",
      "epoch : 13\tbatch : 5\t[160/300]\tDisc_loss : 0.15398554503917694\tGen_loss : 81.02252197265625\n",
      "epoch : 14\tbatch : 0\t[0/300]\tDisc_loss : 1.3678975105285645\tGen_loss : 69.08757019042969\n",
      "epoch : 14\tbatch : 5\t[160/300]\tDisc_loss : 0.0920981764793396\tGen_loss : 57.08367156982422\n",
      "epoch : 15\tbatch : 0\t[0/300]\tDisc_loss : 3.3726093769073486\tGen_loss : 26.173486709594727\n",
      "epoch : 15\tbatch : 5\t[160/300]\tDisc_loss : 0.6605649590492249\tGen_loss : 47.10173416137695\n",
      "epoch : 16\tbatch : 0\t[0/300]\tDisc_loss : 41.597232818603516\tGen_loss : 70.24761962890625\n",
      "epoch : 16\tbatch : 5\t[160/300]\tDisc_loss : 6.929074629624665e-07\tGen_loss : 62.963375091552734\n",
      "epoch : 17\tbatch : 0\t[0/300]\tDisc_loss : 6.113332347013056e-05\tGen_loss : 67.31474304199219\n",
      "epoch : 17\tbatch : 5\t[160/300]\tDisc_loss : 2.775346104044729e-07\tGen_loss : 48.467376708984375\n",
      "epoch : 18\tbatch : 0\t[0/300]\tDisc_loss : 8.103368759155273\tGen_loss : 56.467857360839844\n",
      "epoch : 18\tbatch : 5\t[160/300]\tDisc_loss : 8.502830505371094\tGen_loss : 24.63500213623047\n",
      "epoch : 19\tbatch : 0\t[0/300]\tDisc_loss : 0.35127556324005127\tGen_loss : 40.45812225341797\n",
      "epoch : 19\tbatch : 5\t[160/300]\tDisc_loss : 26.025035858154297\tGen_loss : 23.156169891357422\n",
      "epoch : 20\tbatch : 0\t[0/300]\tDisc_loss : 3.7966256141662598\tGen_loss : 11.30062198638916\n",
      "epoch : 20\tbatch : 5\t[160/300]\tDisc_loss : 26.21689796447754\tGen_loss : 31.83501434326172\n",
      "epoch : 21\tbatch : 0\t[0/300]\tDisc_loss : 2.553488254547119\tGen_loss : 39.881446838378906\n",
      "epoch : 21\tbatch : 5\t[160/300]\tDisc_loss : 26.31344223022461\tGen_loss : 32.21265411376953\n",
      "epoch : 22\tbatch : 0\t[0/300]\tDisc_loss : 12.731653213500977\tGen_loss : 51.7261962890625\n",
      "epoch : 22\tbatch : 5\t[160/300]\tDisc_loss : 0.9961053729057312\tGen_loss : 22.82412338256836\n",
      "epoch : 23\tbatch : 0\t[0/300]\tDisc_loss : 0.3776479661464691\tGen_loss : 23.717201232910156\n",
      "epoch : 23\tbatch : 5\t[160/300]\tDisc_loss : 5.975724220275879\tGen_loss : 27.09749984741211\n",
      "epoch : 24\tbatch : 0\t[0/300]\tDisc_loss : 4.237567901611328\tGen_loss : 23.649757385253906\n",
      "epoch : 24\tbatch : 5\t[160/300]\tDisc_loss : 3.021559000015259\tGen_loss : 24.011234283447266\n",
      "epoch : 25\tbatch : 0\t[0/300]\tDisc_loss : 1.921679139137268\tGen_loss : 21.90024757385254\n"
     ]
    }
   ],
   "source": [
    "img_list = []\n",
    "gen_losses = []\n",
    "disc_losses = []\n",
    "epoch = 0\n",
    "\n",
    "train_loader = DataLoader(train_dataset, batch_size=BATCH_SIZE, shuffle=True, num_workers=WORKERS)\n",
    "\n",
    "print(\"------------------------- Starting Training Loop -------------------\")\n",
    "\n",
    "while epoch < NUM_EPOCHS:\n",
    "    epoch += 1\n",
    "    \n",
    "    for batch_idx, (data, target) in enumerate(train_loader):\n",
    "\n",
    "        # TRAINING THE DISCRIMINATOR\n",
    "        # first on real data then fake data        \n",
    "        discriminator.zero_grad()\n",
    "\n",
    "        # formatting the real data\n",
    "        real_image = data.to(device)\n",
    "        b_size = real_image.size(0)\n",
    "        label = torch.full((b_size, ), real_label, dtype=torch.float, device=device)\n",
    "\n",
    "        # forward pass of real data through discriminator\n",
    "        output = discriminator(real_image).view(-1)\n",
    "\n",
    "        # discriminator loss on real data\n",
    "        disc_real_loss = criterion(output, label)\n",
    "\n",
    "        # calculating gradients for discriminator in backward pass\n",
    "        disc_real_loss.backward()\n",
    "        # D_x = output.mean().item()\n",
    "\n",
    "        # generating batch of random input vectors for Generator\n",
    "        in_vec = torch.randn(b_size, ENCODING_SIZE, 1, 1, device =  device)\n",
    "\n",
    "        # generating the fake images and labels\n",
    "        fake_images = generator(in_vec)\n",
    "        label.fill_(fake_label)\n",
    "\n",
    "        # forward pass of fake data through discriminator\n",
    "        output = discriminator(fake_images.detach()).view(-1)\n",
    "\n",
    "        # discriminator loss on real data\n",
    "        disc_fake_loss = criterion(output, label)\n",
    "\n",
    "        # calculating gradients for discriminator in backward pass\n",
    "        disc_fake_loss.backward()\n",
    "        # DG_z1 = output.mean().item()\n",
    "\n",
    "        \n",
    "        # error of discriminator\n",
    "        disc_loss = disc_real_loss + disc_fake_loss\n",
    "\n",
    "        # Update discriminator\n",
    "        disc_optim.step()\n",
    "\n",
    "\n",
    "        # TRAINING THE GENERATOR\n",
    "        generator.zero_grad()\n",
    "        \n",
    "        # Expected label for each fake image generated by generator is \"real_label\"\n",
    "        label.fill_(real_label)\n",
    "\n",
    "        # forward pass of fake images through updated discriminator\n",
    "        output = discriminator(fake_images).view(-1)\n",
    "\n",
    "        # calculating loss for generator\n",
    "        gen_loss = criterion(output, label)\n",
    "\n",
    "        # calculating gradients for generator\n",
    "        gen_loss.backward()\n",
    "        # DG_z2 = output.mean().item()\n",
    "\n",
    "        # update generator\n",
    "        gen_optim.step()\n",
    "\n",
    "        if batch_idx % 5 == 0:\n",
    "            print(f\"epoch : {epoch}\\tbatch : {batch_idx}\\t[{batch_idx*BATCH_SIZE}/{len(train_loader.dataset)}]\\tDisc_loss : {disc_loss}\\tGen_loss : {gen_loss}\")\n",
    "            img_list.append(fake_images)\n",
    "\n",
    "\n",
    "        gen_losses.append(gen_loss)\n",
    "        disc_losses.append(disc_loss)\n",
    "        del real_image\n",
    "        del data\n",
    "        del label\n",
    "        del output\n",
    "        del b_size\n",
    "        del target\n",
    "        del disc_loss\n",
    "        del gen_loss\n",
    "        del fake_images\n",
    "        del disc_fake_loss\n",
    "        del disc_real_loss\n",
    "        del in_vec"
   ]
  },
  {
   "cell_type": "code",
   "execution_count": null,
   "metadata": {},
   "outputs": [],
   "source": [
    "plt.figure(figsize=(8, 8))\n",
    "plt.axis(\"off\")\n",
    "# plt.imshow(np.transpose((img_list[0][0].cpu(), (1, 2, 0))))\n",
    "plt.imshow(img_list[-1][0].cpu().detach().permute(1, 2, 0))"
   ]
  },
  {
   "cell_type": "code",
   "execution_count": null,
   "metadata": {},
   "outputs": [],
   "source": [
    "img_list[0][0].shape"
   ]
  },
  {
   "cell_type": "code",
   "execution_count": null,
   "metadata": {},
   "outputs": [],
   "source": []
  }
 ],
 "metadata": {
  "interpreter": {
   "hash": "7f5d580de20bbc1c46494391f18081fb421f5fe3bddbc7a8caa463f00bdeb7b4"
  },
  "kernelspec": {
   "display_name": "Python 3",
   "language": "python",
   "name": "python3"
  },
  "language_info": {
   "codemirror_mode": {
    "name": "ipython",
    "version": 3
   },
   "file_extension": ".py",
   "mimetype": "text/x-python",
   "name": "python",
   "nbconvert_exporter": "python",
   "pygments_lexer": "ipython3",
   "version": "3.9.7"
  }
 },
 "nbformat": 4,
 "nbformat_minor": 4
}
